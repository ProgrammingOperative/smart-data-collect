{
 "cells": [
  {
   "cell_type": "code",
   "execution_count": 35,
   "metadata": {},
   "outputs": [],
   "source": [
    "import pandas as pd\n",
    "from kafka import KafkaProducer\n",
    "from kafka.errors import KafkaError\n",
    "import json\n",
    "from s3fs import S3FileSystem\n",
    "from time import sleep"
   ]
  },
  {
   "cell_type": "code",
   "execution_count": 36,
   "metadata": {},
   "outputs": [
    {
     "data": {
      "text/html": [
       "<div>\n",
       "<style scoped>\n",
       "    .dataframe tbody tr th:only-of-type {\n",
       "        vertical-align: middle;\n",
       "    }\n",
       "\n",
       "    .dataframe tbody tr th {\n",
       "        vertical-align: top;\n",
       "    }\n",
       "\n",
       "    .dataframe thead th {\n",
       "        text-align: right;\n",
       "    }\n",
       "</style>\n",
       "<table border=\"1\" class=\"dataframe\">\n",
       "  <thead>\n",
       "    <tr style=\"text-align: right;\">\n",
       "      <th></th>\n",
       "      <th>Index</th>\n",
       "      <th>Date</th>\n",
       "      <th>Open</th>\n",
       "      <th>High</th>\n",
       "      <th>Low</th>\n",
       "      <th>Close</th>\n",
       "      <th>Adj Close</th>\n",
       "      <th>Volume</th>\n",
       "    </tr>\n",
       "  </thead>\n",
       "  <tbody>\n",
       "    <tr>\n",
       "      <th>0</th>\n",
       "      <td>NYA</td>\n",
       "      <td>1965-12-31</td>\n",
       "      <td>528.690002</td>\n",
       "      <td>528.690002</td>\n",
       "      <td>528.690002</td>\n",
       "      <td>528.690002</td>\n",
       "      <td>528.690002</td>\n",
       "      <td>0</td>\n",
       "    </tr>\n",
       "    <tr>\n",
       "      <th>1</th>\n",
       "      <td>NYA</td>\n",
       "      <td>1966-01-03</td>\n",
       "      <td>527.210022</td>\n",
       "      <td>527.210022</td>\n",
       "      <td>527.210022</td>\n",
       "      <td>527.210022</td>\n",
       "      <td>527.210022</td>\n",
       "      <td>0</td>\n",
       "    </tr>\n",
       "    <tr>\n",
       "      <th>2</th>\n",
       "      <td>NYA</td>\n",
       "      <td>1966-01-04</td>\n",
       "      <td>527.840027</td>\n",
       "      <td>527.840027</td>\n",
       "      <td>527.840027</td>\n",
       "      <td>527.840027</td>\n",
       "      <td>527.840027</td>\n",
       "      <td>0</td>\n",
       "    </tr>\n",
       "    <tr>\n",
       "      <th>3</th>\n",
       "      <td>NYA</td>\n",
       "      <td>1966-01-05</td>\n",
       "      <td>531.119995</td>\n",
       "      <td>531.119995</td>\n",
       "      <td>531.119995</td>\n",
       "      <td>531.119995</td>\n",
       "      <td>531.119995</td>\n",
       "      <td>0</td>\n",
       "    </tr>\n",
       "    <tr>\n",
       "      <th>4</th>\n",
       "      <td>NYA</td>\n",
       "      <td>1966-01-06</td>\n",
       "      <td>532.070007</td>\n",
       "      <td>532.070007</td>\n",
       "      <td>532.070007</td>\n",
       "      <td>532.070007</td>\n",
       "      <td>532.070007</td>\n",
       "      <td>0</td>\n",
       "    </tr>\n",
       "  </tbody>\n",
       "</table>\n",
       "</div>"
      ],
      "text/plain": [
       "  Index        Date        Open        High         Low       Close  \\\n",
       "0   NYA  1965-12-31  528.690002  528.690002  528.690002  528.690002   \n",
       "1   NYA  1966-01-03  527.210022  527.210022  527.210022  527.210022   \n",
       "2   NYA  1966-01-04  527.840027  527.840027  527.840027  527.840027   \n",
       "3   NYA  1966-01-05  531.119995  531.119995  531.119995  531.119995   \n",
       "4   NYA  1966-01-06  532.070007  532.070007  532.070007  532.070007   \n",
       "\n",
       "    Adj Close  Volume  \n",
       "0  528.690002       0  \n",
       "1  527.210022       0  \n",
       "2  527.840027       0  \n",
       "3  531.119995       0  \n",
       "4  532.070007       0  "
      ]
     },
     "execution_count": 36,
     "metadata": {},
     "output_type": "execute_result"
    }
   ],
   "source": [
    "df = pd.read_csv(\"data/sample_stock_data.csv\")\n",
    "df.head()"
   ]
  },
  {
   "cell_type": "code",
   "execution_count": 37,
   "metadata": {},
   "outputs": [
    {
     "data": {
      "text/plain": [
       "array([['NYA', '1966-09-02', 442.089996, 442.089996, 442.089996,\n",
       "        442.089996, 442.089996, 0]], dtype=object)"
      ]
     },
     "execution_count": 37,
     "metadata": {},
     "output_type": "execute_result"
    }
   ],
   "source": [
    "df.sample(1).values"
   ]
  },
  {
   "cell_type": "code",
   "execution_count": 38,
   "metadata": {},
   "outputs": [
    {
     "data": {
      "text/plain": [
       "['NYA', '1966-06-20', 495.48999, 495.48999, 495.48999, 495.48999, 495.48999, 0]"
      ]
     },
     "execution_count": 38,
     "metadata": {},
     "output_type": "execute_result"
    }
   ],
   "source": [
    "['NYA', '1966-06-20', 495.48999, 495.48999, 495.48999, 495.48999,\n",
    "        495.48999, 0]"
   ]
  },
  {
   "cell_type": "code",
   "execution_count": 39,
   "metadata": {},
   "outputs": [],
   "source": [
    "producer = KafkaProducer(bootstrap_servers=['18.119.19.35:9092'], value_serializer=lambda m: json.dumps(m).encode('utf-8'))\n",
    "topic = 'quickstart_events'\n"
   ]
  },
  {
   "cell_type": "code",
   "execution_count": 40,
   "metadata": {},
   "outputs": [
    {
     "ename": "KeyboardInterrupt",
     "evalue": "",
     "output_type": "error",
     "traceback": [
      "\u001b[0;31m---------------------------------------------------------------------------\u001b[0m",
      "\u001b[0;31mKeyboardInterrupt\u001b[0m                         Traceback (most recent call last)",
      "\u001b[1;32m/home/tito/Desktop/Data Engineer 2023/Projects/Data collection pipeline/smart-data-collect/KafkaProduce.ipynb Cell 6\u001b[0m line \u001b[0;36m4\n\u001b[1;32m      <a href='vscode-notebook-cell:/home/tito/Desktop/Data%20Engineer%202023/Projects/Data%20collection%20pipeline/smart-data-collect/KafkaProduce.ipynb#W5sZmlsZQ%3D%3D?line=1'>2</a>\u001b[0m record \u001b[39m=\u001b[39m df\u001b[39m.\u001b[39msample(\u001b[39m1\u001b[39m)\u001b[39m.\u001b[39mto_dict(orient\u001b[39m=\u001b[39m\u001b[39m'\u001b[39m\u001b[39mrecords\u001b[39m\u001b[39m'\u001b[39m)[\u001b[39m0\u001b[39m]\n\u001b[1;32m      <a href='vscode-notebook-cell:/home/tito/Desktop/Data%20Engineer%202023/Projects/Data%20collection%20pipeline/smart-data-collect/KafkaProduce.ipynb#W5sZmlsZQ%3D%3D?line=2'>3</a>\u001b[0m producer\u001b[39m.\u001b[39msend(topic, record)   \n\u001b[0;32m----> <a href='vscode-notebook-cell:/home/tito/Desktop/Data%20Engineer%202023/Projects/Data%20collection%20pipeline/smart-data-collect/KafkaProduce.ipynb#W5sZmlsZQ%3D%3D?line=3'>4</a>\u001b[0m sleep(\u001b[39m1.5\u001b[39;49m)\n",
      "\u001b[0;31mKeyboardInterrupt\u001b[0m: "
     ]
    }
   ],
   "source": [
    "while True:\n",
    "    record = df.sample(1).to_dict(orient='records')[0]\n",
    "    producer.send(topic, record)   \n",
    "    sleep(1.5)"
   ]
  },
  {
   "cell_type": "code",
   "execution_count": null,
   "metadata": {},
   "outputs": [],
   "source": [
    "producer.flush()"
   ]
  }
 ],
 "metadata": {
  "kernelspec": {
   "display_name": "data_engineering",
   "language": "python",
   "name": "python3"
  },
  "language_info": {
   "codemirror_mode": {
    "name": "ipython",
    "version": 3
   },
   "file_extension": ".py",
   "mimetype": "text/x-python",
   "name": "python",
   "nbconvert_exporter": "python",
   "pygments_lexer": "ipython3",
   "version": "3.8.17"
  },
  "orig_nbformat": 4
 },
 "nbformat": 4,
 "nbformat_minor": 2
}
