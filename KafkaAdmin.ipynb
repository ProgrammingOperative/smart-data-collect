{
 "cells": [
  {
   "cell_type": "code",
   "execution_count": 1,
   "metadata": {},
   "outputs": [],
   "source": [
    "from kafka.admin import KafkaAdminClient, NewTopic\n",
    "\n",
    "# Define the Kafka broker(s) where you want to create the topic\n",
    "kafka_brokers = \"18.119.19.35:9092\"  # Replace with the actual broker address\n",
    "\n",
    "# Initialize the KafkaAdminClient\n",
    "admin_client = KafkaAdminClient(bootstrap_servers=kafka_brokers)\n",
    "\n",
    "# Define the topic name and its configuration\n",
    "topic_name = \"check_kafka_ingest\"\n",
    "num_partitions = 1  # Number of partitions for the topic\n",
    "replication_factor = 1  # Replication factor for the topic\n",
    "\n"
   ]
  },
  {
   "cell_type": "code",
   "execution_count": 2,
   "metadata": {},
   "outputs": [],
   "source": [
    "# Create a NewTopic object\n",
    "new_topic = NewTopic(\n",
    "    name=topic_name,\n",
    "    num_partitions=num_partitions,\n",
    "    replication_factor=replication_factor\n",
    ")\n",
    "\n",
    "# Create the topic\n",
    "admin_client.create_topics(new_topics=[new_topic])\n",
    "\n",
    "# Close the admin client\n",
    "admin_client.close()"
   ]
  }
 ],
 "metadata": {
  "kernelspec": {
   "display_name": "data_engineering",
   "language": "python",
   "name": "python3"
  },
  "language_info": {
   "codemirror_mode": {
    "name": "ipython",
    "version": 3
   },
   "file_extension": ".py",
   "mimetype": "text/x-python",
   "name": "python",
   "nbconvert_exporter": "python",
   "pygments_lexer": "ipython3",
   "version": "3.8.17"
  },
  "orig_nbformat": 4
 },
 "nbformat": 4,
 "nbformat_minor": 2
}
